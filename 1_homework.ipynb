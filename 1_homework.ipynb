{
  "nbformat": 4,
  "nbformat_minor": 0,
  "metadata": {
    "colab": {
      "provenance": []
    },
    "kernelspec": {
      "name": "python3",
      "display_name": "Python 3"
    },
    "language_info": {
      "name": "python"
    }
  },
  "cells": [
    {
      "cell_type": "markdown",
      "source": [
        "## ДЗ 1 (ОБЯЗАТЕЛЬНОЕ): Анализ температурных данных и мониторинг текущей температуры через OpenWeatherMap API\n",
        "\n",
        "**Описание задания:**  \n",
        "Вы аналитик в компании, занимающейся изучением климатических изменений и мониторингом температур в разных городах. Вам нужно провести анализ исторических данных о температуре для выявления сезонных закономерностей и аномалий. Также необходимо подключить API OpenWeatherMap для получения текущей температуры в выбранных городах и сравнить её с историческими данными.\n",
        "\n",
        "\n",
        "### Цели задания:\n",
        "1. Провести **анализ временных рядов**, включая:\n",
        "   - Вычисление скользящего среднего и стандартного отклонения для сглаживания температурных колебаний.\n",
        "   - Определение аномалий на основе отклонений температуры от $ \\text{скользящее среднее} \\pm 2\\sigma $.\n",
        "   - Построение долгосрочных трендов изменения температуры.\n",
        "   - Любые дополнительные исследования будут вам в плюс.\n",
        "\n",
        "2. Осуществить **мониторинг текущей температуры**:\n",
        "   - Получить текущую температуру через OpenWeatherMap API.\n",
        "   - Сравнить её с историческим нормальным диапазоном для текущего сезона.\n",
        "\n",
        "3. Разработать **интерактивное приложение**:\n",
        "   - Дать пользователю возможность выбрать город.\n",
        "   - Отобразить результаты анализа температур, включая временные ряды, сезонные профили и аномалии.\n",
        "   - Провести анализ текущей температуры в контексте исторических данных.\n",
        "\n",
        "\n",
        "### Описание данных\n",
        "Исторические данные о температуре содержатся в файле `temperature_data.csv`, включают:\n",
        "  - `city`: Название города.\n",
        "  - `timestamp`: Дата (с шагом в 1 день).\n",
        "  - `temperature`: Среднесуточная температура (в °C).\n",
        "  - `season`: Сезон года (зима, весна, лето, осень).\n",
        "\n",
        "Код для генерации файла вы найдете ниже.\n",
        "\n",
        "### Этапы выполнения\n",
        "\n",
        "1. **Анализ исторических данных**:\n",
        "   - Вычислить **скользящее среднее** температуры с окном в 30 дней для сглаживания краткосрочных колебаний.\n",
        "   - Рассчитать среднюю температуру и стандартное отклонение для каждого сезона в каждом городе.\n",
        "   - Выявить аномалии, где температура выходит за пределы $ \\text{среднее} \\pm 2\\sigma $.\n",
        "   - Попробуйте распараллелить проведение этого анализа. Сравните скорость выполнения анализа с распараллеливанием и без него.\n",
        "\n",
        "2. **Мониторинг текущей температуры**:\n",
        "   - Подключить OpenWeatherMap API для получения текущей температуры города. Для получения API Key (бесплатно) надо зарегистрироваться на сайте. Обратите внимание, что API Key может активироваться только через 2-3 часа, это нормально. Посему получите ключ заранее.\n",
        "   - Получить текущую температуру для выбранного города через OpenWeatherMap API.\n",
        "   - Определить, является ли текущая температура нормальной, исходя из исторических данных для текущего сезона.\n",
        "   - Данные на самом деле не совсем реальные (сюрпрайз). Поэтому на момент эксперимента погода в Берлине, Каире и Дубае была в рамках нормы, а в Пекине и Москве аномальная. Протестируйте свое решение для разных городов.\n",
        "   - Попробуйте для получения текущей температуры использовать синхронные и асинхронные методы. Что здесь лучше использовать?\n",
        "\n",
        "3. **Создание приложения на Streamlit**:\n",
        "   - Добавить интерфейс для загрузки файла с историческими данными.\n",
        "   - Добавить интерфейс для выбора города (из выпадающего списка).\n",
        "   - Добавить форму для ввода API-ключа OpenWeatherMap. Когда он не введен, данные для текущей погоды не показываются. Если ключ некорректный, выведите на экран ошибку (должно приходить `{\"cod\":401, \"message\": \"Invalid API key. Please see https://openweathermap.org/faq#error401 for more info.\"}`).\n",
        "   - Отобразить:\n",
        "     - Описательную статистику по историческим данным для города, можно добавить визуализации.\n",
        "     - Временной ряд температур с выделением аномалий (например, точками другого цвета).\n",
        "     - Сезонные профили с указанием среднего и стандартного отклонения.\n",
        "   - Вывести текущую температуру через API и указать, нормальна ли она для сезона.\n",
        "\n",
        "### Критерии оценивания\n",
        "\n",
        "- Корректное проведение анализа данных – 1 балл.\n",
        "- Исследование распараллеливания анализа – 1 балл.\n",
        "- Корректный поиск аномалий – 1 балл.\n",
        "- Подключение к API и корректность выполнения запроса – 1 балл.\n",
        "- Проведение эксперимента с синхронным и асинхронным способом запроса к API – 1 балл.\n",
        "- Создание интерфейса приложения streamlit в соответствии с описанием – 3 балла.\n",
        "- Корректное отображение графиков и статистик, а также сезонных профилей – 1 балл.\n",
        "- Корректный вывод текущей температуры в выбранном городе и проведение проверки на ее аномальность – 1 балл.\n",
        "- Любая дополнительная функциональность приветствуется и оценивается бонусными баллами (не более 2 в сумме) на усмотрение проверяющего.\n",
        "\n",
        "### Формат сдачи домашнего задания\n",
        "\n",
        "Решение нужно развернуть в Streamlit Cloud (бесплатно)\n",
        "\n",
        "*   Создаем новый репозиторий на GitHub.  \n",
        "*   Загружаем проект.\n",
        "*   Создаем аккаунт в [Streamlit Cloud](https://streamlit.io/cloud).\n",
        "*   Авторизуемся в Streamlit Cloud.\n",
        "*   Создаем новое приложение в Streamlit Cloud и подключаем GitHub-репозиторий.\n",
        "*   Deploy!\n",
        "\n",
        "Сдать в форму необходимо:\n",
        "1. Ссылку на развернутое в Streamlit Cloud приложение.\n",
        "2. Ссылку на код. Все выводы про, например, использование параллельности/асинхронности опишите в комментариях.\n",
        "\n",
        "Не забудьте удалить ключ API и иную чувствительную информацию.\n",
        "\n",
        "### Полезные ссылки\n",
        "*   [Оформление задачи Титаник на Streamlit](https://github.com/evgpat/streamlit_demo)\n",
        "*   [Документация Streamlit](https://docs.streamlit.io/)\n",
        "*   [Блог о Streamlit](https://blog.streamlit.io/)"
      ],
      "metadata": {
        "id": "bVbHQbDDjw9i"
      }
    },
    {
      "cell_type": "code",
      "source": [
        "import pandas as pd\n",
        "import numpy as np\n",
        "\n",
        "# Реальные средние температуры (примерные данные) для городов по сезонам\n",
        "seasonal_temperatures = {\n",
        "    \"New York\": {\"winter\": 0, \"spring\": 10, \"summer\": 25, \"autumn\": 15},\n",
        "    \"London\": {\"winter\": 5, \"spring\": 11, \"summer\": 18, \"autumn\": 12},\n",
        "    \"Paris\": {\"winter\": 4, \"spring\": 12, \"summer\": 20, \"autumn\": 13},\n",
        "    \"Tokyo\": {\"winter\": 6, \"spring\": 15, \"summer\": 27, \"autumn\": 18},\n",
        "    \"Moscow\": {\"winter\": -10, \"spring\": 5, \"summer\": 18, \"autumn\": 8},\n",
        "    \"Sydney\": {\"winter\": 12, \"spring\": 18, \"summer\": 25, \"autumn\": 20},\n",
        "    \"Berlin\": {\"winter\": 0, \"spring\": 10, \"summer\": 20, \"autumn\": 11},\n",
        "    \"Beijing\": {\"winter\": -2, \"spring\": 13, \"summer\": 27, \"autumn\": 16},\n",
        "    \"Rio de Janeiro\": {\"winter\": 20, \"spring\": 25, \"summer\": 30, \"autumn\": 25},\n",
        "    \"Dubai\": {\"winter\": 20, \"spring\": 30, \"summer\": 40, \"autumn\": 30},\n",
        "    \"Los Angeles\": {\"winter\": 15, \"spring\": 18, \"summer\": 25, \"autumn\": 20},\n",
        "    \"Singapore\": {\"winter\": 27, \"spring\": 28, \"summer\": 28, \"autumn\": 27},\n",
        "    \"Mumbai\": {\"winter\": 25, \"spring\": 30, \"summer\": 35, \"autumn\": 30},\n",
        "    \"Cairo\": {\"winter\": 15, \"spring\": 25, \"summer\": 35, \"autumn\": 25},\n",
        "    \"Mexico City\": {\"winter\": 12, \"spring\": 18, \"summer\": 20, \"autumn\": 15},\n",
        "}\n",
        "\n",
        "# Сопоставление месяцев с сезонами\n",
        "month_to_season = {12: \"winter\", 1: \"winter\", 2: \"winter\",\n",
        "                   3: \"spring\", 4: \"spring\", 5: \"spring\",\n",
        "                   6: \"summer\", 7: \"summer\", 8: \"summer\",\n",
        "                   9: \"autumn\", 10: \"autumn\", 11: \"autumn\"}\n",
        "\n",
        "# Генерация данных о температуре\n",
        "def generate_realistic_temperature_data(cities, num_years=10):\n",
        "    dates = pd.date_range(start=\"2010-01-01\", periods=365 * num_years, freq=\"D\")\n",
        "    data = []\n",
        "\n",
        "    for city in cities:\n",
        "        for date in dates:\n",
        "            season = month_to_season[date.month]\n",
        "            mean_temp = seasonal_temperatures[city][season]\n",
        "            # Добавляем случайное отклонение\n",
        "            temperature = np.random.normal(loc=mean_temp, scale=5)\n",
        "            data.append({\"city\": city, \"timestamp\": date, \"temperature\": temperature})\n",
        "\n",
        "    df = pd.DataFrame(data)\n",
        "    df['season'] = df['timestamp'].dt.month.map(lambda x: month_to_season[x])\n",
        "    return df\n",
        "\n",
        "# Генерация данных\n",
        "data = generate_realistic_temperature_data(list(seasonal_temperatures.keys()))\n",
        "data.to_csv('temperature_data.csv', index=False)\n"
      ],
      "metadata": {
        "id": "SsrwTMhRj6dK"
      },
      "execution_count": 1,
      "outputs": []
    },
    {
      "cell_type": "code",
      "source": [
        "import requests\n",
        "from datetime import datetime\n",
        "import time\n",
        "from joblib import Parallel, delayed\n",
        "API_KEY = \"...\""
      ],
      "metadata": {
        "id": "9O5E6V8rMYse"
      },
      "execution_count": null,
      "outputs": []
    },
    {
      "cell_type": "code",
      "source": [
        "data = pd.read_csv('/content/temperature_data.csv')\n",
        "data['timestamp'] = pd.to_datetime(data['timestamp'])"
      ],
      "metadata": {
        "id": "DWWgPaIgMkmt"
      },
      "execution_count": 3,
      "outputs": []
    },
    {
      "cell_type": "markdown",
      "source": [
        "Вычислим скользящее среднее температуры с окном в 30 дней"
      ],
      "metadata": {
        "id": "V0FzEIN7qVJB"
      }
    },
    {
      "cell_type": "code",
      "source": [
        "data['rolling_mean'] =data.groupby(by='city')['temperature'].transform(lambda x: x.rolling(window=30).mean())"
      ],
      "metadata": {
        "id": "cgcy3pIbMp3l"
      },
      "execution_count": null,
      "outputs": []
    },
    {
      "cell_type": "markdown",
      "source": [
        "Рассчитем среднюю температуру и стандартное отклонение для каждого сезона в каждом городе"
      ],
      "metadata": {
        "id": "Tptu5J3NqYKz"
      }
    },
    {
      "cell_type": "code",
      "source": [
        "data['mean'] = data.groupby(by=['city', 'season'])['temperature'].transform(lambda x: x.mean())\n",
        "data['std'] = data.groupby(by=['city', 'season'])['temperature'].transform(lambda x: x.std())"
      ],
      "metadata": {
        "id": "9S5vcI2xt74N"
      },
      "execution_count": null,
      "outputs": []
    },
    {
      "cell_type": "markdown",
      "source": [
        "Выявить аномалии, где температура выходит за пределы  среднее±2σ ."
      ],
      "metadata": {
        "id": "ScUPti3sqg_j"
      }
    },
    {
      "cell_type": "code",
      "source": [
        "data['anomaly'] = (data['temperature'] < data['mean'] - data['std'] * 2) + (data['temperature'] > data['mean'] + data['std'] * 2)"
      ],
      "metadata": {
        "id": "Z4SAgN-CFV25"
      },
      "execution_count": null,
      "outputs": []
    },
    {
      "cell_type": "markdown",
      "source": [
        "Анализ без распараллеливания и с распараллеливанием"
      ],
      "metadata": {
        "id": "wWLvZYot2Fu1"
      }
    },
    {
      "cell_type": "code",
      "source": [
        "def dat_transform(df):\n",
        "  data['timestamp'] = pd.to_datetime(data['timestamp'])\n",
        "  data['rolling_mean'] =data.groupby(by='city')['temperature'].transform(lambda x: x.rolling(window=30, min_periods=1).mean())\n",
        "  data['mean'] = data.groupby(by=['city', 'season'])['temperature'].transform(lambda x: x.mean())\n",
        "  data['std'] = data.groupby(by=['city', 'season'])['temperature'].transform(lambda x: x.std())\n",
        "  data['anomaly'] = (data['temperature'] < data['mean'] - data['std'] * 2)\n",
        "  + (data['temperature'] > data['mean'] + data['std'] * 2)\n",
        "  return df"
      ],
      "metadata": {
        "id": "bkMFx_dhqM3H"
      },
      "execution_count": null,
      "outputs": []
    },
    {
      "cell_type": "code",
      "source": [
        "data = pd.read_csv('/content/temperature_data.csv')\n",
        "start_time = time.time()\n",
        "data = dat_transform(data)\n",
        "end_time = time.time()\n",
        "print(f'Время исполнения {end_time - start_time}')\n",
        "\n",
        "\n",
        "data = pd.read_csv('/content/temperature_data.csv')\n",
        "cities = data[\"city\"].unique()\n",
        "data_for_cities = [data[data[\"city\"] == city] for city in cities]\n",
        "\n",
        "start_time = time.time()\n",
        "data = Parallel(n_jobs=-1)(delayed(dat_transform)(city_data) for city_data in data_for_cities)\n",
        "end_time = time.time()\n",
        "data = pd.concat(data)\n",
        "print(f'Время исполнения {end_time - start_time}')"
      ],
      "metadata": {
        "colab": {
          "base_uri": "https://localhost:8080/"
        },
        "id": "T8HULYJ6tOJ5",
        "outputId": "97a148e0-f58f-4545-9281-3d07ab52b48c"
      },
      "execution_count": null,
      "outputs": [
        {
          "output_type": "stream",
          "name": "stdout",
          "text": [
            "Время исполнения 0.12535429000854492\n",
            "Время исполнения 0.39191770553588867\n"
          ]
        }
      ]
    },
    {
      "cell_type": "markdown",
      "source": [
        "Разница между временем выполнения задач без распараллеливания и с распараллеливанием оказалась небольшой, возможно потому что мало данных и задача достаточно простая. Вэтом случае можно обойтись без распараллеливания."
      ],
      "metadata": {
        "id": "TDqchggYOI5d"
      }
    },
    {
      "cell_type": "markdown",
      "source": [
        "Функция для получения сезона"
      ],
      "metadata": {
        "id": "HajlF9JqqzxO"
      }
    },
    {
      "cell_type": "code",
      "source": [
        "def season_dec():\n",
        "  winter = [12, 1, 2]\n",
        "  spring = [3, 4, 5]\n",
        "  summer = [6, 7, 8]\n",
        "  autumn = [9, 10, 11]\n",
        "\n",
        "  month = datetime.now().month\n",
        "  if month in winter:\n",
        "    return \"winter\"\n",
        "  elif month in spring:\n",
        "    return \"spring\"\n",
        "  elif month in summer:\n",
        "    return \"summer\"\n",
        "  else:\n",
        "    return \"autumn\""
      ],
      "metadata": {
        "id": "w0Q5Lm53-SLv"
      },
      "execution_count": null,
      "outputs": []
    },
    {
      "cell_type": "markdown",
      "source": [
        "Функция для получения текущей температуры"
      ],
      "metadata": {
        "id": "sRuWywF8q29s"
      }
    },
    {
      "cell_type": "code",
      "source": [
        "def get_temp(city, key):\n",
        "  url = f'https://api.openweathermap.org/data/2.5/weather?q={city}&appid={API_KEY}&units=metric'\n",
        "  res = requests.get(url)\n",
        "  if res.status_code == 200:\n",
        "    data = res.json()\n",
        "    return data['main']['temp']\n",
        "  else:\n",
        "    print('Ошибка')\n",
        "    return None"
      ],
      "metadata": {
        "id": "oqqSW2I3tCMn"
      },
      "execution_count": null,
      "outputs": []
    },
    {
      "cell_type": "markdown",
      "source": [
        "Функция для определения, является ли текущая температура нормальной"
      ],
      "metadata": {
        "id": "a7csBRrSq8yF"
      }
    },
    {
      "cell_type": "code",
      "source": [
        "def is_normal(df, season, city):\n",
        "  temp = get_temp(city, API_KEY)\n",
        "  std = df[(df['city'] == city) & (df['season'] == season)]['std'].iloc[0]\n",
        "\n",
        "  mean = df[(df['city'] == city) & (df['season'] == season)]['mean'].iloc[0]\n",
        "\n",
        "  low = mean - 2 * std\n",
        "  height = mean + 2 * std\n",
        "\n",
        "  if low < temp < height:\n",
        "    return f'Температура {temp} является нормой для сезона {season} в городе {city}'\n",
        "  return f'Температура {temp} является аномалией для сезона {season} в городе {city}'"
      ],
      "metadata": {
        "id": "iUOZSmZBqOAJ"
      },
      "execution_count": null,
      "outputs": []
    },
    {
      "cell_type": "code",
      "source": [
        "cities = data[\"city\"].unique()\n",
        "for city in cities:\n",
        "  print(is_normal(data, season_dec(),city))"
      ],
      "metadata": {
        "colab": {
          "base_uri": "https://localhost:8080/"
        },
        "id": "qBgtlObgumxn",
        "outputId": "6dd0df94-74db-4848-ba41-94bac2f51234"
      },
      "execution_count": null,
      "outputs": [
        {
          "output_type": "stream",
          "name": "stdout",
          "text": [
            "Температура -8.21 является нормой для сезона winter в городе New York\n",
            "Температура 5.89 является нормой для сезона winter в городе London\n",
            "Температура 4.63 является нормой для сезона winter в городе Paris\n",
            "Температура 3.72 является нормой для сезона winter в городе Tokyo\n",
            "Температура -1.78 является нормой для сезона winter в городе Moscow\n",
            "Температура 23.4 является аномалией для сезона winter в городе Sydney\n",
            "Температура 5.77 является нормой для сезона winter в городе Berlin\n",
            "Температура -7.06 является нормой для сезона winter в городе Beijing\n",
            "Температура 27.15 является нормой для сезона winter в городе Rio de Janeiro\n",
            "Температура 21.96 является нормой для сезона winter в городе Dubai\n",
            "Температура 11.62 является нормой для сезона winter в городе Los Angeles\n",
            "Температура 26.69 является нормой для сезона winter в городе Singapore\n",
            "Температура 25.99 является нормой для сезона winter в городе Mumbai\n",
            "Температура 21.42 является нормой для сезона winter в городе Cairo\n",
            "Температура 10.53 является нормой для сезона winter в городе Mexico City\n"
          ]
        }
      ]
    },
    {
      "cell_type": "markdown",
      "source": [
        "# Асинхронное получение температуры"
      ],
      "metadata": {
        "id": "HaI9SHG8nmOA"
      }
    },
    {
      "cell_type": "code",
      "source": [
        "import nest_asyncio\n",
        "nest_asyncio.apply()"
      ],
      "metadata": {
        "id": "O_vVDiCG2eKj"
      },
      "execution_count": null,
      "outputs": []
    },
    {
      "cell_type": "code",
      "source": [
        "import aiohttp\n",
        "import asyncio\n",
        "import time\n",
        "\n",
        "async def get_temp(city, key):\n",
        "    url = f'https://api.openweathermap.org/data/2.5/weather?q={city}&appid={key}&units=metric'\n",
        "    async with aiohttp.ClientSession() as session:\n",
        "        async with session.get(url) as res:\n",
        "            if res.status == 200:\n",
        "                data = await res.json()\n",
        "                return data['main']['temp']\n",
        "            else:\n",
        "                print(f\"Ошибка\")\n",
        "                return None\n",
        "\n",
        "async def main(cities, API_KEY):\n",
        "    start_time = time.time()\n",
        "    tasks = [get_temp(city, API_KEY) for city in cities]\n",
        "    results = await asyncio.gather(*tasks)\n",
        "    end_time = time.time()\n",
        "    for temp, city in zip(results, cities):\n",
        "      print(f\"В городе: {city}, температура: {temp}\")\n",
        "    print(f\"Время выполнения: {end_time - start_time} секунд\")\n",
        "\n",
        "\n",
        "cities = data['city'].unique()\n",
        "asyncio.run(main(cities, API_KEY))"
      ],
      "metadata": {
        "colab": {
          "base_uri": "https://localhost:8080/"
        },
        "id": "z-cDxWXOk5f6",
        "outputId": "05b98ddd-4c56-4e8e-a2ee-ac664bed24cd"
      },
      "execution_count": null,
      "outputs": [
        {
          "output_type": "stream",
          "name": "stdout",
          "text": [
            "В городе: New York, температура: -8.23\n",
            "В городе: London, температура: 5.95\n",
            "В городе: Paris, температура: 4.63\n",
            "В городе: Tokyo, температура: 3.72\n",
            "В городе: Moscow, температура: -1.78\n",
            "В городе: Sydney, температура: 23.4\n",
            "В городе: Berlin, температура: 5.64\n",
            "В городе: Beijing, температура: -7.06\n",
            "В городе: Rio de Janeiro, температура: 27.15\n",
            "В городе: Dubai, температура: 21.96\n",
            "В городе: Los Angeles, температура: 11.62\n",
            "В городе: Singapore, температура: 26.69\n",
            "В городе: Mumbai, температура: 25.99\n",
            "В городе: Cairo, температура: 21.42\n",
            "В городе: Mexico City, температура: 10.53\n",
            "Время выполнения: 0.24872159957885742 секунд\n"
          ]
        }
      ]
    },
    {
      "cell_type": "code",
      "source": [
        "def get_temp(city, key):\n",
        "  url = f'https://api.openweathermap.org/data/2.5/weather?q={city}&appid={API_KEY}&units=metric'\n",
        "  res = requests.get(url)\n",
        "  if res.status_code == 200:\n",
        "    data = res.json()\n",
        "    return data['main']['temp']\n",
        "  else:\n",
        "    print('Ошибка')\n",
        "    return None\n",
        "\n",
        "start_time = time.time()\n",
        "for city in data[\"city\"].unique():\n",
        "    print(f\"В городе: {city}, температура: {get_temp(city, API_KEY)}\")\n",
        "end_time = time.time()\n",
        "print(f\"Время выполнения: {end_time - start_time} секунд\")"
      ],
      "metadata": {
        "colab": {
          "base_uri": "https://localhost:8080/"
        },
        "id": "lnsb1jtmn8dz",
        "outputId": "3ef84e81-aa62-494f-e5c3-dfb844fc1fbe"
      },
      "execution_count": null,
      "outputs": [
        {
          "output_type": "stream",
          "name": "stdout",
          "text": [
            "В городе: New York, температура: -8.21\n",
            "В городе: London, температура: 5.89\n",
            "В городе: Paris, температура: 4.63\n",
            "В городе: Tokyo, температура: 3.72\n",
            "В городе: Moscow, температура: -1.78\n",
            "В городе: Sydney, температура: 23.4\n",
            "В городе: Berlin, температура: 5.77\n",
            "В городе: Beijing, температура: -7.06\n",
            "В городе: Rio de Janeiro, температура: 27.15\n",
            "В городе: Dubai, температура: 21.96\n",
            "В городе: Los Angeles, температура: 11.62\n",
            "В городе: Singapore, температура: 26.69\n",
            "В городе: Mumbai, температура: 25.99\n",
            "В городе: Cairo, температура: 21.42\n",
            "В городе: Mexico City, температура: 10.53\n",
            "Время выполнения: 1.3721587657928467 секунд\n"
          ]
        }
      ]
    },
    {
      "cell_type": "markdown",
      "source": [
        "Можно заметить что асинхронный подход быстрре, тк все запросы обрабатываются параллельно. В этом случае лучше использовать его.\n"
      ],
      "metadata": {
        "id": "hURUnUKHo3EI"
      }
    }
  ]
}
